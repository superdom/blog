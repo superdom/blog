{
 "cells": [
  {
   "cell_type": "code",
   "execution_count": 1,
   "id": "0b8e16ec-e36c-45fd-b9e8-1dbd55371bc7",
   "metadata": {},
   "outputs": [],
   "source": [
    "import torch\n",
    "from transformers import AutoModelForCausalLM, AutoTokenizer"
   ]
  },
  {
   "cell_type": "code",
   "execution_count": 2,
   "id": "8bedffba-6ae1-49d6-8417-0fa77fba3f0b",
   "metadata": {},
   "outputs": [
    {
     "data": {
      "application/vnd.jupyter.widget-view+json": {
       "model_id": "0d8a7e8c9101451a90ddfd2458fadcbe",
       "version_major": 2,
       "version_minor": 0
      },
      "text/plain": [
       "Loading checkpoint shards:   0%|          | 0/4 [00:00<?, ?it/s]"
      ]
     },
     "metadata": {},
     "output_type": "display_data"
    }
   ],
   "source": [
    "BASE_MODEL = \"meta-llama/Meta-Llama-3.1-8B\"\n",
    "model = AutoModelForCausalLM.from_pretrained(BASE_MODEL)\n",
    "tokenizer = AutoTokenizer.from_pretrained(BASE_MODEL)"
   ]
  },
  {
   "cell_type": "code",
   "execution_count": 3,
   "id": "f804b90d-c83f-4a4c-bd94-14a15bc0b67c",
   "metadata": {},
   "outputs": [
    {
     "data": {
      "text/plain": [
       "LlamaForCausalLM(\n",
       "  (model): LlamaModel(\n",
       "    (embed_tokens): Embedding(128256, 4096)\n",
       "    (layers): ModuleList(\n",
       "      (0-31): 32 x LlamaDecoderLayer(\n",
       "        (self_attn): LlamaSdpaAttention(\n",
       "          (q_proj): Linear(in_features=4096, out_features=4096, bias=False)\n",
       "          (k_proj): Linear(in_features=4096, out_features=1024, bias=False)\n",
       "          (v_proj): Linear(in_features=4096, out_features=1024, bias=False)\n",
       "          (o_proj): Linear(in_features=4096, out_features=4096, bias=False)\n",
       "          (rotary_emb): LlamaRotaryEmbedding()\n",
       "        )\n",
       "        (mlp): LlamaMLP(\n",
       "          (gate_proj): Linear(in_features=4096, out_features=14336, bias=False)\n",
       "          (up_proj): Linear(in_features=4096, out_features=14336, bias=False)\n",
       "          (down_proj): Linear(in_features=14336, out_features=4096, bias=False)\n",
       "          (act_fn): SiLU()\n",
       "        )\n",
       "        (input_layernorm): LlamaRMSNorm((4096,), eps=1e-05)\n",
       "        (post_attention_layernorm): LlamaRMSNorm((4096,), eps=1e-05)\n",
       "      )\n",
       "    )\n",
       "    (norm): LlamaRMSNorm((4096,), eps=1e-05)\n",
       "    (rotary_emb): LlamaRotaryEmbedding()\n",
       "  )\n",
       "  (lm_head): Linear(in_features=4096, out_features=128256, bias=False)\n",
       ")"
      ]
     },
     "execution_count": 3,
     "metadata": {},
     "output_type": "execute_result"
    }
   ],
   "source": [
    "device = torch.device(\"cuda\" if torch.cuda.is_available() else \"cpu\")\n",
    "model.to(device)\n",
    "model.eval()"
   ]
  },
  {
   "cell_type": "code",
   "execution_count": 4,
   "id": "840fa074-7608-4d82-88a9-5037c6eff950",
   "metadata": {},
   "outputs": [],
   "source": [
    "def compute_log_likelihood_for_choice(context, choice):\n",
    "    full_input_text = context + choice\n",
    "    input_ids = tokenizer.encode(full_input_text, return_tensors='pt').to(device)\n",
    "    with torch.no_grad():\n",
    "        outputs = model(input_ids, labels=input_ids)\n",
    "        log_likelihood = -outputs.loss.item()\n",
    "    \n",
    "    return log_likelihood\n",
    "\n",
    "def calculate_log_likelihoods_for_choices(context, choices):\n",
    "    log_likelihoods = {}\n",
    "    for choice in choices:\n",
    "        log_likelihoods[choice] = compute_log_likelihood_for_choice(context, choice)\n",
    "    return log_likelihoods"
   ]
  },
  {
   "cell_type": "code",
   "execution_count": 5,
   "id": "468b3013-6885-4765-82b4-ee35a2a36967",
   "metadata": {},
   "outputs": [],
   "source": [
    "#question = (\"콜라독립 815(815 Cola)는 코카콜라를 대한민국에서 라이선스로 만들어 오던 범양식품이 1998년 4월 1일에 출시한 탄산음료다. 답변:\")\n",
    "#choices = [\" 아니오\", \" 예\"]\n",
    "\n",
    "question = (\"맥주의 저장 시 숙성기간 동안 단백질은 무엇과 결합하여 침전하는가? 답변:\")\n",
    "choices = [\" 맥아\", \" 세균\", \" 탄닌\", \" 효모\"]"
   ]
  },
  {
   "cell_type": "code",
   "execution_count": 6,
   "id": "b1f7c6d7-8d05-4600-84fe-b95432bd9772",
   "metadata": {},
   "outputs": [
    {
     "name": "stderr",
     "output_type": "stream",
     "text": [
      "We detected that you are passing `past_key_values` as a tuple and this is deprecated and will be removed in v4.43. Please use an appropriate `Cache` class (https://huggingface.co/docs/transformers/v4.41.3/en/internal/generation_utils#transformers.Cache)\n"
     ]
    },
    {
     "name": "stdout",
     "output_type": "stream",
     "text": [
      "{' 맥아': -3.5799646377563477, ' 세균': -3.668670177459717, ' 탄닌': -3.43269681930542, ' 효모': -3.569061040878296}\n"
     ]
    }
   ],
   "source": [
    "log_likelihoods = calculate_log_likelihoods_for_choices(question, choices)\n",
    "print(log_likelihoods)"
   ]
  },
  {
   "cell_type": "code",
   "execution_count": null,
   "id": "37dca44b-152b-4bca-aafd-6649e472dae3",
   "metadata": {},
   "outputs": [],
   "source": []
  }
 ],
 "metadata": {
  "kernelspec": {
   "display_name": "Python 3 (ipykernel)",
   "language": "python",
   "name": "python3"
  },
  "language_info": {
   "codemirror_mode": {
    "name": "ipython",
    "version": 3
   },
   "file_extension": ".py",
   "mimetype": "text/x-python",
   "name": "python",
   "nbconvert_exporter": "python",
   "pygments_lexer": "ipython3",
   "version": "3.11.6"
  }
 },
 "nbformat": 4,
 "nbformat_minor": 5
}
